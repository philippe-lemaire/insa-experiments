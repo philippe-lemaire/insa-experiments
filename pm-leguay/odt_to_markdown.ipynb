{
 "cells": [
  {
   "cell_type": "code",
   "execution_count": 5,
   "id": "4f3053b2-0216-407b-b353-c4197ff62d9c",
   "metadata": {},
   "outputs": [],
   "source": [
    "import os"
   ]
  },
  {
   "cell_type": "code",
   "execution_count": 12,
   "id": "6e844889-6e45-4b3d-9b52-2e2701602ba8",
   "metadata": {},
   "outputs": [],
   "source": [
    "path = \".\" # replace the . by the full path to the folder with the odt files"
   ]
  },
  {
   "cell_type": "code",
   "execution_count": 13,
   "id": "3a0ad846-f5b1-417c-9567-7522de46fd37",
   "metadata": {},
   "outputs": [],
   "source": [
    "odt_files = [f for f in os.listdir(path) if f.endswith('odt')]"
   ]
  },
  {
   "cell_type": "code",
   "execution_count": 14,
   "id": "e2669df0-af14-48dd-a7e0-8bdbe7587fe3",
   "metadata": {},
   "outputs": [],
   "source": [
    "for file in odt_files:\n",
    "    os.system(f\"pandoc --from=odt {file} --to markdown -o {file[:-3]}.md\")"
   ]
  }
 ],
 "metadata": {
  "kernelspec": {
   "display_name": "Python 3 (ipykernel)",
   "language": "python",
   "name": "python3"
  },
  "language_info": {
   "codemirror_mode": {
    "name": "ipython",
    "version": 3
   },
   "file_extension": ".py",
   "mimetype": "text/x-python",
   "name": "python",
   "nbconvert_exporter": "python",
   "pygments_lexer": "ipython3",
   "version": "3.10.4"
  }
 },
 "nbformat": 4,
 "nbformat_minor": 5
}
