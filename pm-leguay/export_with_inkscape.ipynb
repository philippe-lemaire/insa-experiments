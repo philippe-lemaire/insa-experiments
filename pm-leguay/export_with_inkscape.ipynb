{
 "cells": [
  {
   "cell_type": "markdown",
   "id": "2700391f-51f3-4648-8bc1-cfa83f77bd38",
   "metadata": {},
   "source": [
    "# Export Inskape"
   ]
  },
  {
   "cell_type": "code",
   "execution_count": null,
   "id": "29437163-f58b-43ed-9d48-5f3fddf6ffc8",
   "metadata": {},
   "outputs": [],
   "source": [
    "import os"
   ]
  },
  {
   "cell_type": "code",
   "execution_count": null,
   "id": "ef48b368-8ac4-4a89-9bdc-98480fb3a197",
   "metadata": {},
   "outputs": [],
   "source": [
    "file_format = \"png\" # change cette string selon le format de sortie voulu : png, pdf…\n",
    "working_directory = \".\" # à mettre à jour avec le chemin vers tes fichiers SVG, sauf s'ils sont dans le même dossier que le notebook"
   ]
  },
  {
   "cell_type": "code",
   "execution_count": null,
   "id": "9e248702-30c9-43ce-b8ca-3c4a85dd800c",
   "metadata": {},
   "outputs": [],
   "source": [
    "os.chdir(working_directory) # pour changer de dossier de travail"
   ]
  },
  {
   "cell_type": "code",
   "execution_count": null,
   "id": "c535f7d9-142d-4606-817a-ae60c8ec1b22",
   "metadata": {},
   "outputs": [],
   "source": [
    "# on fait une liste des fichiers dans le dossier de travail qui finissent par 'svg' ou 'SVG'\n",
    "svg_files = [f for f in os.listdir() if (f.endswith('svg') or f.endswith('SVG'))]"
   ]
  },
  {
   "cell_type": "code",
   "execution_count": null,
   "id": "5bdbfd5d-2d9b-45c5-850a-f1c5cf7237cb",
   "metadata": {},
   "outputs": [],
   "source": [
    "svg_files # on affiche la liste des fichiers pour voir"
   ]
  },
  {
   "cell_type": "code",
   "execution_count": null,
   "id": "72a3c545-e213-4845-86bf-31e32d8ff3c4",
   "metadata": {},
   "outputs": [],
   "source": [
    "# on itère sur chaque fichier et on passe la ligne de commande qui convertit directement au système avec os.system()\n",
    "for num, file in enumerate(svg_files, 1):\n",
    "    cmd = f\"inkscape --export-type='{file_format}' {file}\"\n",
    "    os.system(cmd)\n",
    "    print(f\"Fichier {file} convertit en {file_format}. {num}/{len(svg_files)}\")"
   ]
  },
  {
   "cell_type": "code",
   "execution_count": null,
   "id": "0de13472-bdd3-4ee6-8d4e-454b01dcaf03",
   "metadata": {},
   "outputs": [],
   "source": [
    "# on affiche la liste des fichiers exportés juste pour voir\n",
    "print(\"Fichiers exportés : \")\n",
    "[f for f in os.listdir() if f.endswith(file_format)]"
   ]
  }
 ],
 "metadata": {
  "kernelspec": {
   "display_name": "Python 3 (ipykernel)",
   "language": "python",
   "name": "python3"
  },
  "language_info": {
   "codemirror_mode": {
    "name": "ipython",
    "version": 3
   },
   "file_extension": ".py",
   "mimetype": "text/x-python",
   "name": "python",
   "nbconvert_exporter": "python",
   "pygments_lexer": "ipython3",
   "version": "3.10.4"
  }
 },
 "nbformat": 4,
 "nbformat_minor": 5
}
