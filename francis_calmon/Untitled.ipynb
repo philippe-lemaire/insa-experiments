{
 "cells": [
  {
   "cell_type": "code",
   "execution_count": 6,
   "id": "3aad5ef8-7fb3-4c7a-bae7-dfab187d1cf8",
   "metadata": {},
   "outputs": [
    {
     "data": {
      "text/plain": [
       "[{a: b}]"
      ]
     },
     "execution_count": 6,
     "metadata": {},
     "output_type": "execute_result"
    }
   ],
   "source": [
    "from sympy import *\n",
    "a , b  = symbols('a b', positive=True)\n",
    "z1 = a + I*b\n",
    "z2 = a - I*b\n",
    "solve(Eq( arg(z1) - arg(z2),  pi/2 ) )"
   ]
  },
  {
   "cell_type": "code",
   "execution_count": null,
   "id": "42ec5a23-4e8c-4cf6-9c60-29c64863fba8",
   "metadata": {},
   "outputs": [],
   "source": []
  }
 ],
 "metadata": {
  "kernelspec": {
   "display_name": "Python 3 (ipykernel)",
   "language": "python",
   "name": "python3"
  },
  "language_info": {
   "codemirror_mode": {
    "name": "ipython",
    "version": 3
   },
   "file_extension": ".py",
   "mimetype": "text/x-python",
   "name": "python",
   "nbconvert_exporter": "python",
   "pygments_lexer": "ipython3",
   "version": "3.10.4"
  }
 },
 "nbformat": 4,
 "nbformat_minor": 5
}
