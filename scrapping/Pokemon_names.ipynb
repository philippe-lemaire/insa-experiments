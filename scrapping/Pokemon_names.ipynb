{
 "cells": [
  {
   "cell_type": "markdown",
   "id": "5dc41f78-7231-4b31-b383-b7cbd3b06b77",
   "metadata": {},
   "source": [
    "# Pokemon names scrapping"
   ]
  },
  {
   "cell_type": "code",
   "execution_count": 1,
   "id": "cbc7024b-861f-43c4-b9be-9a0f4f41e13f",
   "metadata": {},
   "outputs": [],
   "source": [
    "import requests\n",
    "import pandas as pd\n",
    "from bs4 import BeautifulSoup "
   ]
  },
  {
   "cell_type": "code",
   "execution_count": 2,
   "id": "f53136f9-157d-44c3-a395-69dd31a74b26",
   "metadata": {},
   "outputs": [],
   "source": [
    "url = \"https://www.pokepedia.fr/Liste_des_Pok%C3%A9mon_dans_l%27ordre_du_Pok%C3%A9dex_National\""
   ]
  },
  {
   "cell_type": "code",
   "execution_count": 3,
   "id": "f15282cf-5dee-431f-a6d7-e94759d9bd79",
   "metadata": {},
   "outputs": [],
   "source": [
    "response = requests.get(url)"
   ]
  },
  {
   "cell_type": "code",
   "execution_count": 4,
   "id": "adf4101e-1a0e-4b6d-bd5e-ca8237da95fa",
   "metadata": {},
   "outputs": [],
   "source": [
    "soup = BeautifulSoup(response.text, 'html.parser')"
   ]
  },
  {
   "cell_type": "code",
   "execution_count": 5,
   "id": "8dcd6bdc-d1ee-4fca-a3cc-d0c0c074681c",
   "metadata": {},
   "outputs": [],
   "source": [
    "links = soup.find_all('a')"
   ]
  },
  {
   "cell_type": "code",
   "execution_count": 6,
   "id": "afc0936e-e44b-4718-a24a-ff6bdd8ddb31",
   "metadata": {},
   "outputs": [],
   "source": [
    "l = links[12]"
   ]
  },
  {
   "cell_type": "code",
   "execution_count": 7,
   "id": "51b86c4e-3bdd-424f-84b9-cd6bfb34fe28",
   "metadata": {},
   "outputs": [
    {
     "data": {
      "text/plain": [
       "['Unys']"
      ]
     },
     "execution_count": 7,
     "metadata": {},
     "output_type": "execute_result"
    }
   ],
   "source": [
    "l.contents"
   ]
  },
  {
   "cell_type": "code",
   "execution_count": 8,
   "id": "eb7653ef-d84c-421b-b949-27b9044b808d",
   "metadata": {},
   "outputs": [],
   "source": [
    "links = list(links)"
   ]
  },
  {
   "cell_type": "code",
   "execution_count": 9,
   "id": "ef72715c-c9a6-4bd3-bde4-4e383fd0babd",
   "metadata": {},
   "outputs": [
    {
     "data": {
      "text/plain": [
       "<a href=\"/Bulbizarre\" title=\"Bulbizarre\">Bulbizarre</a>"
      ]
     },
     "execution_count": 9,
     "metadata": {},
     "output_type": "execute_result"
    }
   ],
   "source": [
    "links[55]"
   ]
  },
  {
   "cell_type": "code",
   "execution_count": 10,
   "id": "625043f2-43f6-4b31-a07a-ee8a261d69b2",
   "metadata": {},
   "outputs": [
    {
     "data": {
      "text/plain": [
       "<a id=\"top\"></a>"
      ]
     },
     "execution_count": 10,
     "metadata": {},
     "output_type": "execute_result"
    }
   ],
   "source": [
    "links[0]"
   ]
  },
  {
   "cell_type": "code",
   "execution_count": 11,
   "id": "2feb1132-1308-499c-bd2e-a6fc888e2e84",
   "metadata": {},
   "outputs": [],
   "source": [
    "names = []\n",
    "for link in links[55:]:\n",
    "    if link.string:\n",
    "        names.append(link.string)\n",
    "names = names[:3774]"
   ]
  },
  {
   "cell_type": "code",
   "execution_count": 12,
   "id": "89b1970d-79a2-4a6b-af0d-db8a1e26ba1f",
   "metadata": {},
   "outputs": [
    {
     "data": {
      "text/plain": [
       "3773"
      ]
     },
     "execution_count": 12,
     "metadata": {},
     "output_type": "execute_result"
    }
   ],
   "source": [
    "names.index(\"Cupidos\")"
   ]
  },
  {
   "cell_type": "code",
   "execution_count": 13,
   "id": "f71ba2e4-2acf-46df-9d6f-4be17baa8a7b",
   "metadata": {},
   "outputs": [],
   "source": [
    "fr_names = names[::3]"
   ]
  },
  {
   "cell_type": "code",
   "execution_count": 14,
   "id": "d44ca603-6dc4-470b-99f2-391a283c1bcf",
   "metadata": {},
   "outputs": [],
   "source": [
    "def remove_dups(l):\n",
    "    new_l = []\n",
    "    for item in l:\n",
    "        if item not in new_l:\n",
    "            new_l.append(item)\n",
    "    return new_l"
   ]
  },
  {
   "cell_type": "code",
   "execution_count": 15,
   "id": "80a24c1f-b890-45ec-854c-9c2cf600dd84",
   "metadata": {},
   "outputs": [],
   "source": [
    "fr_unique_names = remove_dups(fr_names)"
   ]
  },
  {
   "cell_type": "code",
   "execution_count": 20,
   "id": "07a3cecb-93d4-4771-8468-a6052e4c7daf",
   "metadata": {},
   "outputs": [],
   "source": [
    "with open('pokemon_names.py', 'w') as f:\n",
    "    f.write(\"pokemon_choices = [\\n\")\n",
    "    for num, name in enumerate(fr_unique_names, 1):\n",
    "        f.write(f\"({num}, '{name}'),\\n\")\n",
    "    f.write(\"]\")\n"
   ]
  },
  {
   "cell_type": "code",
   "execution_count": 21,
   "id": "5e83b7a3-48ee-412c-9242-9acc242409e1",
   "metadata": {},
   "outputs": [],
   "source": [
    "natures_url = 'https://www.pokepedia.fr/Nature' \n",
    "response = requests.get(natures_url)\n",
    "soup = BeautifulSoup(response.text)"
   ]
  },
  {
   "cell_type": "code",
   "execution_count": 23,
   "id": "12ecfec2-b3c5-4d78-95dd-ef331ec5bf17",
   "metadata": {},
   "outputs": [],
   "source": [
    "tds = soup.find_all('td')"
   ]
  },
  {
   "cell_type": "code",
   "execution_count": 29,
   "id": "c4890d86-665d-4ca8-aa32-b9bbded2592a",
   "metadata": {},
   "outputs": [],
   "source": [
    "natures = []\n",
    "for td in tds:\n",
    "    if td.string:\n",
    "        natures.append(td.string.strip())"
   ]
  },
  {
   "cell_type": "code",
   "execution_count": 32,
   "id": "a945a5ae-cc62-4298-bf9d-12f2ec5e4afd",
   "metadata": {},
   "outputs": [],
   "source": [
    "natures = natures[20:]"
   ]
  },
  {
   "cell_type": "code",
   "execution_count": 35,
   "id": "3f977dad-6950-4377-b4f7-02eeeec3abb6",
   "metadata": {},
   "outputs": [],
   "source": [
    "natures = natures[::11]"
   ]
  },
  {
   "cell_type": "code",
   "execution_count": 36,
   "id": "bb125b17-f407-4610-a0c9-ad4fe078a68e",
   "metadata": {},
   "outputs": [],
   "source": [
    "with open('pokemon_natures.py', 'w') as f:\n",
    "    f.write(\"nature_choices = [\\n\")\n",
    "    for num, name in enumerate(natures, 1):\n",
    "        f.write(f\"({num}, '{name}'),\\n\")\n",
    "    f.write(\"]\")\n",
    "            "
   ]
  },
  {
   "cell_type": "code",
   "execution_count": null,
   "id": "4992eb93-cb6a-4f16-970f-61daba2246db",
   "metadata": {},
   "outputs": [],
   "source": []
  }
 ],
 "metadata": {
  "kernelspec": {
   "display_name": "Python 3 (ipykernel)",
   "language": "python",
   "name": "python3"
  },
  "language_info": {
   "codemirror_mode": {
    "name": "ipython",
    "version": 3
   },
   "file_extension": ".py",
   "mimetype": "text/x-python",
   "name": "python",
   "nbconvert_exporter": "python",
   "pygments_lexer": "ipython3",
   "version": "3.10.4"
  }
 },
 "nbformat": 4,
 "nbformat_minor": 5
}
