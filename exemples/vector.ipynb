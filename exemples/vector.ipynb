{
 "cells": [
  {
   "cell_type": "markdown",
   "id": "37e0b920-41ac-4119-979f-59b5d7ff743b",
   "metadata": {},
   "source": [
    "# Exemple de programmation objet : Vecteur"
   ]
  },
  {
   "cell_type": "code",
   "execution_count": null,
   "id": "1a306605-eafd-4415-803e-e28158b9c98e",
   "metadata": {},
   "outputs": [],
   "source": [
    "import math\n",
    "\n",
    "class Vector2d:\n",
    "    \"\"\"Une classe qui représente un vecteur à 2 dimensions\"\"\"\n",
    "    def __init__(self, x, y):\n",
    "        # ici on convertit les arguments x et y en floats pour attraper des éventuelles erreurs liées \n",
    "        # à des types non numériques le plus tôt possible\n",
    "        # on stocke x dans l'attribut __x (idem pour y) pour rendre ces attributs privés, et notre vecteur immuable\n",
    "        self.__x = float(x)\n",
    "        self.__y = float(y)\n",
    "    \n",
    "    \n",
    "    @property\n",
    "    def x(self):\n",
    "        # .x() est une méthode qui va chercher la valeur protégée dans .__x, le décorateur @property lui donne la syntaxe d'un attribut public.\n",
    "        return self.__x\n",
    "    \n",
    "    @property\n",
    "    def y(self):\n",
    "        return self.__y\n",
    "    \n",
    "    def __iter__(self):\n",
    "        # rend notre vecteur itérable, nécessaire pour que tuple() fonctionne sur notre objet\n",
    "        yield self.x\n",
    "        yield self.y\n",
    "        \n",
    "    def __repr__(self):\n",
    "        class_name = type(self).__name__\n",
    "        return f\"{class_name}({self.x}, {self.y})\"\n",
    "\n",
    "    def __str__(self):\n",
    "        return str(tuple(self))\n",
    "    \n",
    "    def __eq__(self, other):\n",
    "        # fonction qui détermine si deux instances de notre objet sont équivalentes\n",
    "        return tuple(self) == tuple(other)\n",
    "    \n",
    "    def __abs__(self):\n",
    "        # détermine le comportement de la fonction abs() sur notre objet. \n",
    "        return (self.x**2 + self.y**2)**0.5\n",
    "    \n",
    "    def __bool__(self):\n",
    "        # détermine le comportement du constructeur bool sur notre objet.\n",
    "        # ici on décide que notre vecteur est False s'il est (0,0), et True sinon\n",
    "        return bool(abs(self))\n",
    "    \n",
    "    def __hash__(self):\n",
    "        # cette méthode renvoie un hash unique pour chaque vecteur, et identique si 2 vecteurs ont les mêmes attributs\n",
    "        # elle est nécessaire pour pouvoir contruire des ensembles de vecteurs\n",
    "        return hash(self.x) ^ hash(self.y)\n",
    "    \n",
    "    def __add__(self, other):\n",
    "        # méthode définissant l'addition de deux vecteurs\n",
    "        x = self.x + other.x\n",
    "        y = self.x + other.y\n",
    "        return Vector2d(x, y)\n",
    "    \n",
    "    def __mul__(self, scalar):\n",
    "        # définit le comportement de l'opérateur *\n",
    "        x = self.x * scalar\n",
    "        y = self.y * scalar\n",
    "        return Vector2d(x, y)\n",
    "    \n",
    "    def angle(self):\n",
    "        # renvoit l'angle en radians de notre vecteur\n",
    "        return math.atan2(self.y, self.x)"
   ]
  },
  {
   "cell_type": "markdown",
   "id": "56661216-f27b-4ee7-abdc-13b5fb5ebe42",
   "metadata": {},
   "source": [
    "## Test de la méthode `__repr__`"
   ]
  },
  {
   "cell_type": "code",
   "execution_count": null,
   "id": "beb6e35d-78f3-4cc7-ba91-a74ac34de7fe",
   "metadata": {},
   "outputs": [],
   "source": [
    "Vector2d(1,1)"
   ]
  },
  {
   "cell_type": "markdown",
   "id": "cc513de9-604f-41f9-a0ab-d7f64257d1ac",
   "metadata": {},
   "source": [
    "## test de la méthode `__str__`"
   ]
  },
  {
   "cell_type": "code",
   "execution_count": null,
   "id": "f66a33b8-84a3-4066-b996-202b7bb639df",
   "metadata": {},
   "outputs": [],
   "source": [
    "str(Vector2d(2,3))"
   ]
  },
  {
   "cell_type": "markdown",
   "id": "176947c4-9b90-462d-9b8f-4d3a4297359d",
   "metadata": {},
   "source": [
    "## Test de la méthode `__eq__`"
   ]
  },
  {
   "cell_type": "code",
   "execution_count": null,
   "id": "43b51c26-17f2-4066-a50e-4b31094c1e4b",
   "metadata": {},
   "outputs": [],
   "source": [
    "a = Vector2d(1, 1)\n",
    "b = Vector2d(8, 8)\n",
    "c = Vector2d(1.0, 2/2)"
   ]
  },
  {
   "cell_type": "code",
   "execution_count": null,
   "id": "a4da9654-f24b-4220-964c-06c5af1db7ce",
   "metadata": {},
   "outputs": [],
   "source": [
    "a == b"
   ]
  },
  {
   "cell_type": "code",
   "execution_count": null,
   "id": "aa5f0cbe-dc5b-4f7c-b007-a93d43afbf39",
   "metadata": {},
   "outputs": [],
   "source": [
    "a == c"
   ]
  },
  {
   "cell_type": "markdown",
   "id": "525e6ab2-d378-4d49-99e1-dd29d05328cd",
   "metadata": {},
   "source": [
    "## Test de la méthode `__abs__`"
   ]
  },
  {
   "cell_type": "code",
   "execution_count": null,
   "id": "7d49dd2d-3040-44df-b9c8-d4d0a019bbc5",
   "metadata": {},
   "outputs": [],
   "source": [
    "abs(b) / abs(c)"
   ]
  },
  {
   "cell_type": "markdown",
   "id": "61f8ed0a-74da-4210-9dd2-8f01cc2db41e",
   "metadata": {},
   "source": [
    "## Test de la méthode`__bool__`"
   ]
  },
  {
   "cell_type": "code",
   "execution_count": null,
   "id": "2eeb7661-6008-48a3-b780-d41d55422824",
   "metadata": {},
   "outputs": [],
   "source": [
    "bool(a)"
   ]
  },
  {
   "cell_type": "code",
   "execution_count": null,
   "id": "83ea3a62-7907-42ad-9ec5-9a213dff62ea",
   "metadata": {},
   "outputs": [],
   "source": [
    "bool(Vector2d(0, 0))"
   ]
  },
  {
   "cell_type": "markdown",
   "id": "4945e9f3-0844-4a96-bb48-684191fb38ec",
   "metadata": {},
   "source": [
    "## Test de la méthode `__hash__`, qui permet de construire des ensembles de Vecteurs"
   ]
  },
  {
   "cell_type": "code",
   "execution_count": null,
   "id": "85dd0977-012f-4e69-b6aa-6aec9875bfad",
   "metadata": {},
   "outputs": [],
   "source": [
    "set((a, b, c))"
   ]
  },
  {
   "cell_type": "markdown",
   "id": "0dab168f-ba88-43ce-8abd-f2886c7bd9f0",
   "metadata": {},
   "source": [
    "## Test de la méthode `__add__`"
   ]
  },
  {
   "cell_type": "code",
   "execution_count": null,
   "id": "bacfdcc8-3285-46c7-95c9-2991e35a2f06",
   "metadata": {},
   "outputs": [],
   "source": [
    "a + b"
   ]
  },
  {
   "cell_type": "markdown",
   "id": "c84880d8-5cd1-4782-89f9-de4d2ee7dbe6",
   "metadata": {},
   "source": [
    "## Test de la méthode `angle`"
   ]
  },
  {
   "cell_type": "code",
   "execution_count": null,
   "id": "9098434a-6f5c-420a-a0ce-ba969ce67d32",
   "metadata": {},
   "outputs": [],
   "source": [
    "a.angle()"
   ]
  },
  {
   "cell_type": "code",
   "execution_count": null,
   "id": "ac83b417-e55f-434d-a64b-9399dcb3cb7e",
   "metadata": {},
   "outputs": [],
   "source": [
    "Vector2d(-1,0).angle()"
   ]
  }
 ],
 "metadata": {
  "kernelspec": {
   "display_name": "Python 3 (ipykernel)",
   "language": "python",
   "name": "python3"
  },
  "language_info": {
   "codemirror_mode": {
    "name": "ipython",
    "version": 3
   },
   "file_extension": ".py",
   "mimetype": "text/x-python",
   "name": "python",
   "nbconvert_exporter": "python",
   "pygments_lexer": "ipython3",
   "version": "3.10.4"
  }
 },
 "nbformat": 4,
 "nbformat_minor": 5
}
