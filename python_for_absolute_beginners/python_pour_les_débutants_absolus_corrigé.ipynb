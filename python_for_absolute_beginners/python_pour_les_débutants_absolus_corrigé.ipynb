{
 "cells": [
  {
   "cell_type": "markdown",
   "id": "fbc56efb-20f3-4db2-a4c4-a353494e56a7",
   "metadata": {},
   "source": [
    "# Python pour les débutants absolus"
   ]
  },
  {
   "cell_type": "markdown",
   "id": "8a4ec9e1-baac-4cde-9adb-78f5da5d2dd8",
   "metadata": {},
   "source": [
    "## Partie 1 - Une tâche simple et répétitive\n",
    "Dans cette première partie nous allons nous ateler à faire faire à l'ordinateur une tâche simple mais ô combien rébarbative : renommer une série de fichiers pour que leur ordre alphabétique corresponde à leur séquence logique.\n",
    "\n",
    "La cellule ci dessous va créer une série de pseudos fichiers vidéo (leur poids sera nul) dont la nomenclature crée un ordre alphabétique peut souhaitable."
   ]
  },
  {
   "cell_type": "code",
   "execution_count": null,
   "id": "ad70f96e-86c6-4705-b792-4aa47bd63517",
   "metadata": {},
   "outputs": [],
   "source": [
    "import os\n",
    "\n",
    "base_path = os.getcwd()\n",
    "\n",
    "folder = 'messy_video_files'\n",
    "\n",
    "os.makedirs(folder, exist_ok=True)\n",
    "\n",
    "titres = [\n",
    "    \"Children of the Gods\",\n",
    "    \"The Enemy Within\",\n",
    "    \"Emancipation\",\n",
    "    \"The Broca Divide\",\n",
    "    \"The First Commandment\",\n",
    "    \"Cold Lazarus\",\n",
    "    \"The Nox\",\n",
    "    \"Brief Candle\",\n",
    "]\n",
    "\n",
    "seasons = [1, 1, 1, 1, 2, 2, 2, 2]\n",
    "\n",
    "episodes = list(range(1, 5)) * 2\n",
    "\n",
    "files = [\n",
    "    f\"{titre.replace(' ', '_')}_Ma_Super_Série_S0{season}_E0{episode}.avi\"\n",
    "    for titre, season, episode in zip(titres, seasons, episodes)\n",
    "]\n",
    "os.chdir(folder)\n",
    "\n",
    "for file in sorted(files):\n",
    "    open(file, 'a').close()\n",
    "os.chdir(base_path)"
   ]
  },
  {
   "cell_type": "markdown",
   "id": "f107c3f2-432c-441d-8425-5be4460a271e",
   "metadata": {},
   "source": [
    "### Ce qu'il faudrait faire\n",
    "Nos fichiers sont nommés de telle manière que leur ordre d'affichage dans mon explorateur de fichier ne correspond pas à l’ordre dans lequel je souhaite les visionner.\n",
    "\n",
    "En regardant de près, on s'aperçoit qu'il y a une régularité dans chaque nom de fichier.\n",
    "\n",
    "1. Titre de l'épisode\n",
    "1. Titre de la série\n",
    "1. Numéro de la saison\n",
    "1. Numéro de l'épisode\n",
    "1. extention de fichier `.avi`\n",
    "\n",
    "Pour corriger le tir, il suffirait de renommer tous les fichiers pour que le titre de l'épisode soit après le numéro de saison et le numéro d'épisode dans la saison.\n"
   ]
  },
  {
   "cell_type": "markdown",
   "id": "1c13fe4f-5932-43e0-be12-9dfac0eef6c4",
   "metadata": {},
   "source": [
    "### Algorithme\n",
    "\n",
    "un algorithme, une série d'actions à réaliser pour obtenir le résultat voulu serait :\n",
    "\n",
    "1. Établir la liste des noms de fichiers à traiter\n",
    "2. Pour chaque fichier :\n",
    "    1. identifier le titre de l'épisode\n",
    "    1. créer un nouveau nom de fichier en retirant le titre de l'épisode du début du nom, puis l'insérer avant l'extension `.avi`\n",
    "    1. trouver le fichier par son ancien nom et lui donner le nouveau nom"
   ]
  },
  {
   "cell_type": "markdown",
   "id": "f721fce9-467b-4323-a48d-864a65f3f741",
   "metadata": {},
   "source": [
    "### Liste\n",
    "Une liste est une séquence d'objets.\n",
    "\n",
    "On peut créer une liste directement avec la syntaxe `[objet1, objet2, …]`"
   ]
  },
  {
   "cell_type": "code",
   "execution_count": null,
   "id": "d1822df5-65b1-44e9-88c0-301003b1bc14",
   "metadata": {},
   "outputs": [],
   "source": [
    "[1, 2, 0, 5, -1]"
   ]
  },
  {
   "cell_type": "markdown",
   "id": "86d592ea-e81b-48b8-b3aa-16e228f8b96b",
   "metadata": {},
   "source": [
    "On peut également obtenir une liste comme résultat d'une fonction.\n",
    "\n",
    "Il y a dans le module `os` de python une fonction qui permet d'établir la liste des noms de fichiers dans un dossier.\n",
    "\n",
    "Cette fonction est `os.listdir()`"
   ]
  },
  {
   "cell_type": "code",
   "execution_count": null,
   "id": "1dc7f588-5389-491a-9fb4-c2a01ed85529",
   "metadata": {},
   "outputs": [],
   "source": [
    "import os\n",
    "os.listdir('messy_video_files')"
   ]
  },
  {
   "cell_type": "markdown",
   "id": "d8a7651f-b458-49c5-b1ff-8c1a94ad9b89",
   "metadata": {},
   "source": [
    "La première partie de notre algorithme est faite ! \n",
    "Il n'y a qu'a assigner cette liste à une variable pour la retrouver plus loin dans notre programme."
   ]
  },
  {
   "cell_type": "code",
   "execution_count": null,
   "id": "37e8c77f-4d9a-42a0-82ad-b18ee5039c46",
   "metadata": {},
   "outputs": [],
   "source": [
    "file_names = os.listdir('messy_video_files')\n",
    "file_names"
   ]
  },
  {
   "cell_type": "markdown",
   "id": "f6308a6e-7f42-42c2-843b-34db33ddca8a",
   "metadata": {},
   "source": [
    "#### La nature des noms\n",
    "\n",
    "Les noms de nos fichiers sont des objets du type `str`, qui veut dire **string** ou **chaîne de caractère** en bon français.\n",
    "\n",
    "Rappel de ce que nous cherchons à faire : \n",
    "1. Établir la liste des noms de fichiers à traiter [FAIT]\n",
    "2. Pour chaque fichier :\n",
    "    1. identifier le titre de l'épisode\n",
    "    1. créer un nouveau nom de fichier en retirant le titre de l'épisode du début du nom, puis l'insérer avant l'extension `.avi`\n",
    "    1. trouver le fichier par son ancien nom et lui donner le nouveau nom\n",
    "    \n",
    "Commençons par trouver comment faire la tâche voulue sur un nom de fichier, on verra ensuite comment répéter automatiquement cette tâche sur tous les noms.\n",
    "\n",
    "Nous allons donc travailler pour commencer uniquement sur le premier nom de fichier, le premier élément de notre liste.\n",
    "\n",
    "On va y accéder via l'indexation de notre liste."
   ]
  },
  {
   "cell_type": "code",
   "execution_count": null,
   "id": "c81e917e-99f2-4fef-bafe-fbb5f92204de",
   "metadata": {},
   "outputs": [],
   "source": [
    "file_names[0]"
   ]
  },
  {
   "cell_type": "code",
   "execution_count": null,
   "id": "bc3b72da-3e61-46dc-a04b-fb64dcdddccf",
   "metadata": {},
   "outputs": [],
   "source": [
    "first = file_names[0]"
   ]
  },
  {
   "cell_type": "code",
   "execution_count": null,
   "id": "7e553b1c-0600-4a34-9293-9f4181894c76",
   "metadata": {},
   "outputs": [],
   "source": [
    "first.index('Ma_Super_Série')"
   ]
  },
  {
   "cell_type": "code",
   "execution_count": null,
   "id": "1736117b-b977-4b24-b039-9259ccb122e8",
   "metadata": {},
   "outputs": [],
   "source": [
    "first[13:]"
   ]
  },
  {
   "cell_type": "code",
   "execution_count": null,
   "id": "c2c04d89-2f82-4377-81d3-635041795686",
   "metadata": {},
   "outputs": [],
   "source": [
    "first[13:-4]"
   ]
  },
  {
   "cell_type": "code",
   "execution_count": null,
   "id": "e86d4c49-5845-464f-a99f-0dc6b0acd55f",
   "metadata": {},
   "outputs": [],
   "source": [
    "cut = first.index('Ma_Super_Série')\n",
    "episode_title = first[:cut - 1]\n",
    "rest = first[cut:-4]\n",
    "print(episode_title)\n",
    "print(rest)"
   ]
  },
  {
   "cell_type": "code",
   "execution_count": null,
   "id": "ec44795d-5387-4223-8735-d8e55051d4ea",
   "metadata": {},
   "outputs": [],
   "source": [
    "f\"{rest}_{episode_title}.avi\""
   ]
  },
  {
   "cell_type": "markdown",
   "id": "c9d30d14-d6c0-4681-8460-a82f5834be53",
   "metadata": {},
   "source": [
    "#### Boucles itératives"
   ]
  },
  {
   "cell_type": "code",
   "execution_count": null,
   "id": "74d09d56-1e92-4426-8afd-7a704dd736dc",
   "metadata": {},
   "outputs": [],
   "source": [
    "for name in file_names:\n",
    "    cut = name.index('Ma_Super')\n",
    "    episode_title = name[:cut - 1]\n",
    "    rest = name[cut:-4]\n",
    "    new_name = f\"{rest}_{episode_title}.avi\"\n",
    "    print(new_name)"
   ]
  },
  {
   "cell_type": "markdown",
   "id": "b23f24d3-c00e-481b-978d-ddda902a0150",
   "metadata": {},
   "source": [
    "#### La boucle complète"
   ]
  },
  {
   "cell_type": "code",
   "execution_count": null,
   "id": "dbb643a5-ca44-4e9b-9966-d33961d4089e",
   "metadata": {},
   "outputs": [],
   "source": [
    "os.chdir(folder)\n",
    "for name in file_names:\n",
    "    cut = name.index('Ma_Super')\n",
    "    episode_title = name[:cut - 1]\n",
    "    rest = name[cut:-4]\n",
    "    new_name = f\"{rest}_{episode_title}.avi\"\n",
    "    os.rename(name, new_name)\n",
    "os.chdir(base_path)"
   ]
  },
  {
   "cell_type": "markdown",
   "id": "5794683e-d103-4fe2-8dc7-9ed667a3c34f",
   "metadata": {},
   "source": [
    "### Récapitulatif des notions vues \n",
    "\n",
    "- les listes\n",
    "- les strings\n",
    "- l'indexation et les tranches\n",
    "- l'itération avec une boucle for\n",
    "- première utilisation du module `os`\n",
    "- algorithmie : découper notre problème en petits bouts"
   ]
  },
  {
   "cell_type": "markdown",
   "id": "9dcb5459-25aa-46c7-af59-a280f7d7f2b4",
   "metadata": {},
   "source": [
    "## Partie 2 - Des éléves et des évaluations\n",
    "\n",
    "Je suis professeur principal pour une classe et le système de création des bulletins trimestriels a quelques soucis.\n",
    "\n",
    "Je vais devoir établir moi-même les moyennes pour chaque élève (par discipline et moyenne générale), et classer les élèves par moyenne générale, par ordre décroissant.\n",
    "\n",
    "<div class='alert alert-info'>\n",
    "Notions que nous allons voir :\n",
    "\n",
    "- nouvelle structure de données : les dictionnaires\n",
    "- grouper le code en unités logiques pour éviter les répétitions : les fonctions\n",
    "- encore des itérations\n",
    "- classer une liste avec un critère spécifique\n",
    "</div>"
   ]
  },
  {
   "cell_type": "markdown",
   "id": "5d3bc552-9302-4caf-b8b2-dbd2d63087ba",
   "metadata": {},
   "source": [
    "### Création des données"
   ]
  },
  {
   "cell_type": "code",
   "execution_count": null,
   "id": "727f2aca-5848-48d7-ad29-33dc51576b8d",
   "metadata": {},
   "outputs": [],
   "source": [
    "names = [\n",
    "    \"Absinthe\",\n",
    "    \"Achillée\",\n",
    "    \"Ada\",\n",
    "    \"Agapanthe\",\n",
    "    \"Agate\",\n",
    "    \"Agnès\",\n",
    "    \"Aloès\",\n",
    "    \"Andromède\",\n",
    "    \"April\",\n",
    "    \"Argémone\",\n",
    "    \"Armoise\",\n",
    "    \"Azalée\",\n",
    "    \"Bardane\",\n",
    "    \"Belladonna\",\n",
    "    \"Brie\",\n",
    "    \"Brynn\",\n",
    "    \"Cassiopée\",\n",
    "    \"Cerise\",\n",
    "    \"Citronnelle\",\n",
    "    \"Claire\",\n",
    "    \"Dahlia\",\n",
    "    \"Dauphinelle\",\n",
    "    \"Elsa\",\n",
    "    \"Émeraude\",\n",
    "    \"Érin\",\n",
    "    \"Fraise\",\n",
    "    \"Genièvre\",\n",
    "    \"Grace\",\n",
    "    \"Gwendoline\",\n",
    "    \"Iris\",\n",
    "    \"Jacinthe\",\n",
    "    \"Lavande\",\n",
    "    \"Lila\",\n",
    "    \"Magnolia\",\n",
    "    \"Marguerite\",\n",
    "    \"Marjolaine\",\n",
    "    \"Minnie\",\n",
    "    \"Noisette\",\n",
    "    \"Odette\",\n",
    "    \"Olive\",\n",
    "    \"Opale\",\n",
    "    \"Perle\",\n",
    "    \"Rita\",\n",
    "    \"Rose\",\n",
    "    \"Safran\",\n",
    "    \"Sandy\",\n",
    "    \"Sassafras\",\n",
    "    \"Suzanne\",\n",
    "    \"Violette\",\n",
    "    \"Yeuse1. \",\n",
    "    \"Acacia\",\n",
    "    \"Albert\",\n",
    "    \"Algernon\",\n",
    "    \"Ambroise\",\n",
    "    \"Aneth\",\n",
    "    \"Anis\",\n",
    "    \"Antonio\",\n",
    "    \"Arsène\",\n",
    "    \"Aubépin\",\n",
    "    \"Auguste\",\n",
    "    \"Basile\",\n",
    "    \"Béric\",\n",
    "    \"Bill\",\n",
    "    \"Boldo\",\n",
    "    \"Bourgeon\",\n",
    "    \"Brie\",\n",
    "    \"Café\",\n",
    "    \"Cassien\",\n",
    "    \"Clive\",\n",
    "    \"Colby\",\n",
    "    \"Corné\",\n",
    "    \"Demi-sel\",\n",
    "    \"Edmond\",\n",
    "    \"Elmer\",\n",
    "    \"Ernest\",\n",
    "    \"Estragon\",\n",
    "    \"Fenouil\",\n",
    "    \"Festus\",\n",
    "    \"Fievel\",\n",
    "    \"Francis\",\n",
    "    \"Gaspard\",\n",
    "    \"Gilles\",\n",
    "    \"Horace\",\n",
    "    \"Jacques\",\n",
    "    \"Konrad\",\n",
    "    \"Laurel\",\n",
    "    \"Laurier\",\n",
    "    \"Lorenz\",\n",
    "    \"Mich\",\n",
    "    \"Nuphar\",\n",
    "    \"Oliver\",\n",
    "    \"Orin\",\n",
    "    \"Pavot\",\n",
    "    \"Poivre\",\n",
    "    \"Ripitchip\",\n",
    "    \"Robin\",\n",
    "    \"Séneçon\",\n",
    "    \"Simon\",\n",
    "    \"Stilton\",\n",
    "    \"Warren\",\n",
    "]\n",
    "\n",
    "disciplines = [\n",
    "    \"Français\",\n",
    "    \"Maths\",\n",
    "    \"Histoire/Géographie\",\n",
    "    \"Anglais\",\n",
    "    \"Espagnol\",\n",
    "    \"Philosophie\",\n",
    "    \"Physique/Chimie\",\n",
    "    \"SVT\",\n",
    "]\n",
    "\n",
    "\n",
    "import random\n",
    "\n",
    "random.seed(42)\n",
    "evaluations = []\n",
    "for name in names:\n",
    "    student = {'Nom': name}\n",
    "    for discipline in disciplines:\n",
    "        student[discipline] = [random.randint(0, 20) for note in range(random.randint(1, 5))]\n",
    "    evaluations.append(student)"
   ]
  },
  {
   "cell_type": "markdown",
   "id": "72686b8e-217c-4c6b-9ef1-65712f629709",
   "metadata": {},
   "source": [
    "### Notre tâche\n",
    "\n",
    "Il faut que pour chaque étudiant, je puisse calculer la moyenne de ses notes pour chaque discipline, puis que je calcule sa moyenne générale.\n",
    "\n",
    "Toutes mes données sont dans la variable `evaluations`.\n",
    "\n",
    "Pour le calcul de la moyenne générale, je dois appliquer les coefficients suivants :\n",
    "\n",
    "`\"Français\" : 5,`  \n",
    "`\"Maths\" : 9,`  \n",
    "`\"Histoire/Géographie\": 5,`  \n",
    "`\"Anglais\": 4,`  \n",
    "`\"Espagnol\": 4,`  \n",
    "`\"Philosophie\": 3,`  \n",
    "`\"Physique/Chimie\": 7,`  \n",
    "`\"SVT\": 7,`  \n",
    "\n",
    "Je veux au bout du compte établir une liste d’étudiants avec leur nom, leurs moyennes dans chaque discipline, leur moyenne générale, et les classer par moyenne générale.\n",
    "\n",
    "Regardons juste les 3 premiers éléments de l'objet `evaluations` qui contient toutes les données brutes."
   ]
  },
  {
   "cell_type": "code",
   "execution_count": null,
   "id": "26df20f6-2026-4a6e-bdc6-baab3bb9ba6d",
   "metadata": {},
   "outputs": [],
   "source": [
    "evaluations[:3]"
   ]
  },
  {
   "cell_type": "markdown",
   "id": "1c019d43-f47a-4c60-a30e-5d1b2b50a557",
   "metadata": {},
   "source": [
    "`evaluations` est une liste. Dedans il y a un objet par élève. Quel est le type d’objet utilisé pour représenter un élève ?"
   ]
  },
  {
   "cell_type": "code",
   "execution_count": null,
   "id": "92d6df51-9bdc-4c87-a038-35c2b97d4398",
   "metadata": {},
   "outputs": [],
   "source": [
    "type(evaluations[0])"
   ]
  },
  {
   "cell_type": "code",
   "execution_count": null,
   "id": "bd8d96fe-5b4d-4b0f-8b76-cd3114538d00",
   "metadata": {},
   "outputs": [],
   "source": []
  },
  {
   "cell_type": "markdown",
   "id": "585378f2-2d54-4f3a-b592-7cb6f12dbc13",
   "metadata": {},
   "source": [
    "### Première sous-tâche : calculons pour un élève donné et une discipline donnée, la moyenne.\n",
    "\n",
    "Par exemple pour le premier élève dans `evaluations`, calculons la moyenne en `Maths`."
   ]
  },
  {
   "cell_type": "code",
   "execution_count": null,
   "id": "628a27b4-b4b0-46d1-8ce8-61dd707eeb46",
   "metadata": {},
   "outputs": [],
   "source": [
    "first = evaluations[0]"
   ]
  },
  {
   "cell_type": "code",
   "execution_count": null,
   "id": "ee619dcb-bc25-49f4-8557-d86099f569ca",
   "metadata": {},
   "outputs": [],
   "source": [
    "first['Maths']"
   ]
  },
  {
   "cell_type": "code",
   "execution_count": null,
   "id": "bc954b8b-27f7-48da-9457-027c41aa5715",
   "metadata": {},
   "outputs": [],
   "source": [
    "discipline = 'Maths'\n",
    "notes = first[discipline]\n",
    "moyenne = sum(notes) / len(notes)"
   ]
  },
  {
   "cell_type": "code",
   "execution_count": null,
   "id": "f1168fbb-9ce5-40e2-befd-47a14d0016c9",
   "metadata": {},
   "outputs": [],
   "source": [
    "moyenne"
   ]
  },
  {
   "cell_type": "markdown",
   "id": "13c8dc76-60ba-4093-b3a3-3fdf2f8f472d",
   "metadata": {},
   "source": [
    "#### Refactorisation de la logique en une fonction \n",
    "Nous allons devoir calculer la moyenne pour chaque discipline et pour chaque élève.\n",
    "\n",
    "Il nous faut encapsuler la logique du calcul de moyenne dans une **fonction**, que nous allons pouvoir réutiliser autant de fois que nécessaire."
   ]
  },
  {
   "cell_type": "code",
   "execution_count": null,
   "id": "25a1e864-837a-42ba-8a59-fc2e326f9b45",
   "metadata": {},
   "outputs": [],
   "source": [
    "def moyenne(etudiant, discipline):\n",
    "    notes = etudiant[discipline]\n",
    "    moyenne = sum(notes) / len(notes)\n",
    "    moyenne = round(moyenne, 1)\n",
    "    return moyenne\n"
   ]
  },
  {
   "cell_type": "code",
   "execution_count": null,
   "id": "eca32cb5-cb10-4800-8c3b-2bc0371a2e49",
   "metadata": {},
   "outputs": [],
   "source": [
    "disciplines = [\n",
    "    \"Français\",\n",
    "    \"Maths\",\n",
    "    \"Histoire/Géographie\",\n",
    "    \"Anglais\",\n",
    "    \"Espagnol\",\n",
    "    \"Philosophie\",\n",
    "    \"Physique/Chimie\",\n",
    "    \"SVT\",\n",
    "]"
   ]
  },
  {
   "cell_type": "markdown",
   "id": "7bed5d8d-1eee-4c1b-8685-fd96fd81b28c",
   "metadata": {},
   "source": [
    "#### Utilisation de notre fonction sur chaque élève"
   ]
  },
  {
   "cell_type": "code",
   "execution_count": null,
   "id": "81d5b03f-2259-48d2-981e-1c30f4f9d7ba",
   "metadata": {},
   "outputs": [],
   "source": [
    "# utilisation de la fonction sur un étudiant pour chaque discipline\n",
    "for discipline in disciplines:\n",
    "    print(f\"{discipline}: {moyenne(first, discipline)}\")"
   ]
  },
  {
   "cell_type": "code",
   "execution_count": null,
   "id": "4e0381e6-ddd1-4ca3-8731-07603826765c",
   "metadata": {},
   "outputs": [],
   "source": []
  },
  {
   "cell_type": "markdown",
   "id": "176d5741-bbbf-443b-bcaa-c91ada0a989c",
   "metadata": {},
   "source": [
    "#### Création des différents bulletins\n",
    "\n",
    "Maintenant nous allons créer les objets qui vont représenter les bulletins trimestriels. \n",
    "\n",
    "1 par élève, avec les moyennes dans chaque discipline.\n",
    "\n",
    "Nous y ajouterons les moyennes générales dans un second temps.\n",
    "\n",
    "Quelle serait le type d'objet adéquat pour représenter un bulletin trimestriel ?"
   ]
  },
  {
   "cell_type": "code",
   "execution_count": null,
   "id": "d3bd349f-a492-4fa2-84d7-efc708105d4a",
   "metadata": {},
   "outputs": [],
   "source": [
    "bulletin = {}\n",
    "bulletin['Nom'] = first['Nom']\n",
    "for discipline in disciplines:\n",
    "    bulletin[discipline] = moyenne(first, discipline)\n",
    "bulletin"
   ]
  },
  {
   "cell_type": "code",
   "execution_count": null,
   "id": "887ff8fa-3216-4ec6-82e2-1d91f3789a27",
   "metadata": {},
   "outputs": [],
   "source": []
  },
  {
   "cell_type": "markdown",
   "id": "2d716c8b-735a-4112-9303-672e3508bf1f",
   "metadata": {},
   "source": [
    "On peut déjà itérer sur toutes nos évalutations et créer un bulletin pour chaque étudiant."
   ]
  },
  {
   "cell_type": "code",
   "execution_count": null,
   "id": "0d520733-381b-4907-b258-0d36fb54b18a",
   "metadata": {},
   "outputs": [],
   "source": [
    "bulletins = []\n",
    "for etudiant in evaluations:\n",
    "    bulletin = {}\n",
    "    bulletin['Nom'] = etudiant['Nom']\n",
    "    for discipline in disciplines:\n",
    "        bulletin[discipline] = moyenne(etudiant, discipline)\n",
    "    bulletins.append(bulletin)"
   ]
  },
  {
   "cell_type": "code",
   "execution_count": null,
   "id": "51a56e2a-08bb-4d10-b607-8a11a7b05599",
   "metadata": {},
   "outputs": [],
   "source": [
    "bulletins[:3]"
   ]
  },
  {
   "cell_type": "markdown",
   "id": "70f841ce-4d77-4b32-b8a4-ffaa0bc3a5b8",
   "metadata": {},
   "source": [
    "#### Calcul de la moyenne générale\n",
    "\n",
    "Il nous manque encore le calcul de la moyenne générale.\n",
    "\n",
    "Nous allons à nouveau :\n",
    "\n",
    "1. calculer cette moyenne générale sur 1 bulletin\n",
    "2. généraliser cette logique en une fonction pour l'appliquer à tous les bulletins"
   ]
  },
  {
   "cell_type": "code",
   "execution_count": null,
   "id": "0a291163-1af9-4de2-838d-d4e58081b643",
   "metadata": {},
   "outputs": [],
   "source": [
    "bulletin"
   ]
  },
  {
   "cell_type": "code",
   "execution_count": null,
   "id": "fff16930-c31f-4499-91ad-9d6bb08a6e59",
   "metadata": {},
   "outputs": [],
   "source": [
    "coeffs = {\n",
    "    \"Français\" : 5,\n",
    "    \"Maths\" : 9,\n",
    "    \"Histoire/Géographie\": 5,\n",
    "    \"Anglais\": 4,\n",
    "    \"Espagnol\": 4,\n",
    "    \"Philosophie\": 3,\n",
    "    \"Physique/Chimie\": 7,\n",
    "    \"SVT\": 7, \n",
    "}"
   ]
  },
  {
   "cell_type": "code",
   "execution_count": null,
   "id": "384732b2-56c1-47b3-90b4-123203428f3e",
   "metadata": {},
   "outputs": [],
   "source": [
    "moyenne_generale = 0\n",
    "for discipline in disciplines:\n",
    "    coef = coeffs[discipline]\n",
    "    note = bulletin[discipline]\n",
    "    moyenne_generale += note * coef\n",
    "somme_coefs = sum(coeffs.values())\n",
    "moyenne_generale = moyenne_generale / somme_coefs\n",
    "moyenne_generale = round(moyenne_generale, 2)\n",
    "moyenne_generale"
   ]
  },
  {
   "cell_type": "markdown",
   "id": "bb18c1d6-abf5-4b3d-a139-a844996c2b8e",
   "metadata": {},
   "source": [
    "La logique est bonne, faisons-en une **fonction** : "
   ]
  },
  {
   "cell_type": "code",
   "execution_count": null,
   "id": "d2d0d1db-ad5e-4582-ac9d-d33bcce81d2e",
   "metadata": {},
   "outputs": [],
   "source": [
    "def moyenne_generale(bulletin):\n",
    "    mg = 0\n",
    "    for discipline in disciplines:\n",
    "        coef = coeffs[discipline]\n",
    "        note = bulletin[discipline]\n",
    "        mg += note * coef\n",
    "    somme_coefs = sum(coeffs.values())\n",
    "    mg = mg / somme_coefs\n",
    "    mg = round(mg, 2)\n",
    "    return mg"
   ]
  },
  {
   "cell_type": "markdown",
   "id": "0b8fead8-3555-4a1d-a8d4-4c63930dd002",
   "metadata": {},
   "source": [
    "Il ne nous reste plus qu’à appliquer cette fonction à chaque bulletin, et à ajouter la moyenne générale sur chaque bulletin."
   ]
  },
  {
   "cell_type": "code",
   "execution_count": null,
   "id": "72feafae-35aa-46c6-bb5d-a6c4fce176e9",
   "metadata": {},
   "outputs": [],
   "source": [
    "for bulletin in bulletins:\n",
    "    mg = moyenne_generale(bulletin)\n",
    "    bulletin['Moyenne générale'] = mg"
   ]
  },
  {
   "cell_type": "code",
   "execution_count": null,
   "id": "dee2f13f-b63e-456d-bf9b-f6486519773c",
   "metadata": {},
   "outputs": [],
   "source": [
    "bulletins[:2]"
   ]
  },
  {
   "cell_type": "markdown",
   "id": "412b8fdd-96db-403a-90e5-4c86bbc5873f",
   "metadata": {},
   "source": [
    "#### Dernière tâche : classer tous nos bulletins par moyenne générale en ordre décroissant."
   ]
  },
  {
   "cell_type": "code",
   "execution_count": null,
   "id": "752cec2e-947d-439a-8401-01c8c1a490b9",
   "metadata": {},
   "outputs": [],
   "source": [
    "bulletins.sort()"
   ]
  },
  {
   "cell_type": "code",
   "execution_count": null,
   "id": "e8e7399a-d087-47d3-bbae-761bcdd80302",
   "metadata": {},
   "outputs": [],
   "source": [
    "def get_mg(bulletin):\n",
    "    return bulletin['Moyenne générale']"
   ]
  },
  {
   "cell_type": "code",
   "execution_count": null,
   "id": "026296da-b446-4b21-8b71-88c40619a74f",
   "metadata": {},
   "outputs": [],
   "source": [
    "bulletins.sort(key=get_mg)"
   ]
  },
  {
   "cell_type": "code",
   "execution_count": null,
   "id": "a0cf5f6f-3533-4624-93c3-9d87d5f01bbe",
   "metadata": {},
   "outputs": [],
   "source": [
    "bulletins[:2]"
   ]
  },
  {
   "cell_type": "code",
   "execution_count": null,
   "id": "c5b2785e-cdcc-4f4a-ba05-3bf78ad5af5d",
   "metadata": {},
   "outputs": [],
   "source": [
    "bulletins.sort(key=get_mg, reverse=True)"
   ]
  },
  {
   "cell_type": "code",
   "execution_count": null,
   "id": "122f3dbb-88b1-4fb6-8cc1-b35cfabd76f3",
   "metadata": {},
   "outputs": [],
   "source": [
    "bulletins[:3]"
   ]
  },
  {
   "cell_type": "markdown",
   "id": "69c520e2-085b-472f-b1c3-1de56491f643",
   "metadata": {},
   "source": [
    "<div class='alert alert-success'>\n",
    "\n",
    "Ouf, le conseil de classe est sauvé ! Je n’ai fait aucun calcul à la main et toutes les valeurs sont justes !\n",
    "    \n",
    "</div>\n",
    "\n",
    "<div class='alert alert-success'>\n",
    "    \n",
    "Récapitulatif des notions vues :\n",
    "\n",
    "- Une structure de données associative : le dictionnaire\n",
    "- grouper le code en unités logiques pour éviter les répétitions : les fonctions\n",
    "- itérer pour répéter\n",
    "- classer une liste (avec un critère spécifique)\n",
    "\n",
    "</div>"
   ]
  },
  {
   "cell_type": "markdown",
   "id": "424c7df9-8d7f-404a-b398-4f9c248dff16",
   "metadata": {},
   "source": [
    "## Nettoyage : effacer tous les fichiers créés"
   ]
  },
  {
   "cell_type": "code",
   "execution_count": null,
   "id": "77961fd5-a99b-460b-afc6-cbaf484ed563",
   "metadata": {},
   "outputs": [],
   "source": [
    "os.chdir(base_path)\n",
    "import shutil\n",
    "shutil.rmtree(folder, ignore_errors=True)\n"
   ]
  },
  {
   "cell_type": "code",
   "execution_count": null,
   "id": "6cea3117-bfb2-4a0b-a120-326bffc925a3",
   "metadata": {},
   "outputs": [],
   "source": []
  }
 ],
 "metadata": {
  "kernelspec": {
   "display_name": "Python 3 (ipykernel)",
   "language": "python",
   "name": "python3"
  },
  "language_info": {
   "codemirror_mode": {
    "name": "ipython",
    "version": 3
   },
   "file_extension": ".py",
   "mimetype": "text/x-python",
   "name": "python",
   "nbconvert_exporter": "python",
   "pygments_lexer": "ipython3",
   "version": "3.10.4"
  }
 },
 "nbformat": 4,
 "nbformat_minor": 5
}
