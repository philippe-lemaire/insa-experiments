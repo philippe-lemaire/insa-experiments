{
 "cells": [
  {
   "cell_type": "markdown",
   "id": "a4014954-bbe2-4e39-a4bd-5e756d772a60",
   "metadata": {},
   "source": [
    "# Puissance 4 "
   ]
  },
  {
   "cell_type": "code",
   "execution_count": 1,
   "id": "46887f14-8999-4804-a5de-af776c72a506",
   "metadata": {},
   "outputs": [],
   "source": [
    "import random\n",
    "import numpy as np"
   ]
  },
  {
   "cell_type": "markdown",
   "id": "c42a8bbb-6219-40f9-a0c6-c7967724816f",
   "metadata": {},
   "source": [
    "## Définir une grille 6 lignes, 7 colonnes"
   ]
  },
  {
   "cell_type": "code",
   "execution_count": 27,
   "id": "c1adb05b-5de5-420e-a8fb-d575eab2aef8",
   "metadata": {},
   "outputs": [],
   "source": [
    "def gen_grid():\n",
    "    grid = np.zeros((6, 7), dtype=\"int32\")\n",
    "    return grid"
   ]
  },
  {
   "cell_type": "code",
   "execution_count": 28,
   "id": "783693db-5c30-4126-b3af-6df3e944df07",
   "metadata": {},
   "outputs": [],
   "source": [
    "grid = gen_grid()"
   ]
  },
  {
   "cell_type": "code",
   "execution_count": 29,
   "id": "e6a28c9e-9e94-4dbb-8f05-8f4dfcf6d5de",
   "metadata": {},
   "outputs": [
    {
     "data": {
      "text/plain": [
       "array([[0, 0, 0, 0, 0, 0, 0],\n",
       "       [0, 0, 0, 0, 0, 0, 0],\n",
       "       [0, 0, 0, 0, 0, 0, 0],\n",
       "       [0, 0, 0, 0, 0, 0, 0],\n",
       "       [0, 0, 0, 0, 0, 0, 0],\n",
       "       [0, 0, 0, 0, 0, 0, 0]], dtype=int32)"
      ]
     },
     "execution_count": 29,
     "metadata": {},
     "output_type": "execute_result"
    }
   ],
   "source": [
    "grid"
   ]
  },
  {
   "cell_type": "code",
   "execution_count": 32,
   "id": "047d9e73-0f6a-427c-8924-57d13ebb8250",
   "metadata": {},
   "outputs": [],
   "source": [
    "def play(grid, col, symbol):\n",
    "    if grid[0, col] != 0:\n",
    "        print('Column is full!')\n",
    "        return None\n",
    "    \n",
    "    line = 5\n",
    "    while grid[line, col] != 0:\n",
    "        line -= 1\n",
    "    # put the symbol\n",
    "    grid[line, col] = symbol\n",
    "    return True\n",
    "    "
   ]
  },
  {
   "cell_type": "code",
   "execution_count": 34,
   "id": "f1b3557e-f9be-4e05-a0e7-fe8960da5392",
   "metadata": {},
   "outputs": [
    {
     "data": {
      "text/plain": [
       "array([[0, 0, 0, 0, 0, 0, 0],\n",
       "       [0, 0, 0, 0, 0, 0, 0],\n",
       "       [0, 0, 0, 0, 0, 0, 0],\n",
       "       [0, 0, 8, 0, 0, 0, 0],\n",
       "       [0, 0, 8, 0, 0, 0, 0],\n",
       "       [0, 0, 8, 0, 0, 0, 0]], dtype=int32)"
      ]
     },
     "execution_count": 34,
     "metadata": {},
     "output_type": "execute_result"
    }
   ],
   "source": [
    "play(grid, col=2, symbol = 8)\n",
    "\n",
    "grid"
   ]
  },
  {
   "cell_type": "code",
   "execution_count": 57,
   "id": "980dbb9c-cc6f-4671-a312-9a55f4f14268",
   "metadata": {},
   "outputs": [],
   "source": [
    "def check_strip(array, length):\n",
    "    for end in range(3,length):\n",
    "        arr = array[end-3: end]\n",
    "        if np.all(arr == arr[0]) and arr[0] != 0:\n",
    "            return True\n",
    "    return False"
   ]
  },
  {
   "cell_type": "code",
   "execution_count": 54,
   "id": "98e790f7-9a30-4c7b-9d2e-6cb447013505",
   "metadata": {},
   "outputs": [
    {
     "data": {
      "text/plain": [
       "array([0, 0, 0, 1, 1, 1], dtype=int32)"
      ]
     },
     "execution_count": 54,
     "metadata": {},
     "output_type": "execute_result"
    }
   ],
   "source": [
    "col = grid[:,1]\n",
    "col"
   ]
  },
  {
   "cell_type": "code",
   "execution_count": 58,
   "id": "e3fcc6b8-0521-404a-9c18-5605c335fe9b",
   "metadata": {},
   "outputs": [],
   "source": [
    "def check_win(grid):\n",
    "    # check horizontal (lines)\n",
    "    for line in grid:\n",
    "        win = check_strip(line, 7)\n",
    "        if win:\n",
    "            return True\n",
    "    # check vertical (columns)\n",
    "    for col in grid.T:\n",
    "        win = check_strip(col, 6)\n",
    "        if win:\n",
    "            return True\n",
    "    return False\n",
    "    "
   ]
  },
  {
   "cell_type": "code",
   "execution_count": 67,
   "id": "1e960dcd-d2f4-440c-843a-6d535199be07",
   "metadata": {},
   "outputs": [],
   "source": [
    "grid = gen_grid()"
   ]
  },
  {
   "cell_type": "code",
   "execution_count": 68,
   "id": "ed2b51c9-44a0-481f-ac51-c9bb9f4701af",
   "metadata": {},
   "outputs": [
    {
     "data": {
      "text/plain": [
       "array([[0, 0, 0, 0, 0, 0, 0],\n",
       "       [0, 0, 0, 0, 0, 0, 0],\n",
       "       [0, 0, 0, 0, 0, 0, 0],\n",
       "       [0, 0, 0, 0, 0, 0, 0],\n",
       "       [0, 0, 0, 0, 0, 0, 0],\n",
       "       [0, 0, 0, 1, 0, 0, 0]], dtype=int32)"
      ]
     },
     "execution_count": 68,
     "metadata": {},
     "output_type": "execute_result"
    }
   ],
   "source": [
    "play(grid=grid, col=3, symbol=1)\n",
    "grid"
   ]
  },
  {
   "cell_type": "code",
   "execution_count": 55,
   "id": "e5fb98a9-0e6b-43f1-9c7b-f422d477e462",
   "metadata": {},
   "outputs": [
    {
     "data": {
      "text/plain": [
       "array([[0, 0, 0, 1, 1, 1],\n",
       "       [0, 0, 0, 1, 1, 1],\n",
       "       [1, 1, 1, 8, 8, 8],\n",
       "       [0, 0, 0, 1, 1, 1],\n",
       "       [0, 0, 0, 1, 1, 1],\n",
       "       [0, 0, 0, 1, 1, 1],\n",
       "       [0, 0, 0, 0, 1, 1]], dtype=int32)"
      ]
     },
     "execution_count": 55,
     "metadata": {},
     "output_type": "execute_result"
    }
   ],
   "source": []
  },
  {
   "cell_type": "code",
   "execution_count": 69,
   "id": "4a369f60-63e4-4d84-abc5-3286df79677b",
   "metadata": {},
   "outputs": [
    {
     "name": "stdout",
     "output_type": "stream",
     "text": [
      "False\n"
     ]
    }
   ],
   "source": [
    "print(check_win(grid))"
   ]
  },
  {
   "cell_type": "code",
   "execution_count": null,
   "id": "3d012c07-cda6-4c7e-82ff-e7087d5e80a0",
   "metadata": {},
   "outputs": [],
   "source": []
  }
 ],
 "metadata": {
  "kernelspec": {
   "display_name": "Python 3 (ipykernel)",
   "language": "python",
   "name": "python3"
  },
  "language_info": {
   "codemirror_mode": {
    "name": "ipython",
    "version": 3
   },
   "file_extension": ".py",
   "mimetype": "text/x-python",
   "name": "python",
   "nbconvert_exporter": "python",
   "pygments_lexer": "ipython3",
   "version": "3.10.4"
  }
 },
 "nbformat": 4,
 "nbformat_minor": 5
}
