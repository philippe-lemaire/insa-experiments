{
 "cells": [
  {
   "cell_type": "markdown",
   "id": "355011cf-dc39-489a-b7b1-ed11bfbc99e8",
   "metadata": {},
   "source": [
    "# 10 Trucs et Astuces pour améliorer votre code Python"
   ]
  },
  {
   "cell_type": "markdown",
   "id": "c225fbf7-2be9-426b-b053-5b788a0570a9",
   "metadata": {},
   "source": [
    "## 1. Utiliser un Opérateur ternaire"
   ]
  },
  {
   "cell_type": "markdown",
   "id": "94618e5f-4a75-4b7d-872a-bcd7c7a33034",
   "metadata": {},
   "source": [
    "Quand vous voulez faire une assignation ou une autre en fonction d'une condition, avec un `if` et un `else` classiques, ça peut ressembler à ça :"
   ]
  },
  {
   "cell_type": "code",
   "execution_count": null,
   "id": "4c5d7bb7-e302-4b22-b489-e21ac11a80f4",
   "metadata": {},
   "outputs": [],
   "source": [
    "condition = True"
   ]
  },
  {
   "cell_type": "code",
   "execution_count": null,
   "id": "a39d2f70-e728-4507-8234-8135fa3b08eb",
   "metadata": {},
   "outputs": [],
   "source": [
    "if condition:\n",
    "    x = 1\n",
    "else:\n",
    "    x = 0\n",
    "\n",
    "x"
   ]
  },
  {
   "cell_type": "markdown",
   "id": "99756ac1-388b-403e-8bc1-05466b684198",
   "metadata": {},
   "source": [
    "💡 Avec un opérateur ternaire, c'est un peu plus concis et élégant : "
   ]
  },
  {
   "cell_type": "code",
   "execution_count": null,
   "id": "c629e3a5-c363-4478-9292-cd4b3493c947",
   "metadata": {},
   "outputs": [],
   "source": [
    "x = 1 if condition else 0\n",
    "\n",
    "x"
   ]
  },
  {
   "cell_type": "markdown",
   "id": "b6745341-b09b-49e8-86f5-44ac0a9061a0",
   "metadata": {},
   "source": [
    "## 2. Utiliser underscore pour séparer les paquets de chiffres dans les grands nombres"
   ]
  },
  {
   "cell_type": "markdown",
   "id": "c2ed5b27-e3d2-44b0-a6cc-b85d654ef94b",
   "metadata": {},
   "source": [
    "Quand on saisit un grand nombre, cela peut devenir difficile à lire : "
   ]
  },
  {
   "cell_type": "code",
   "execution_count": null,
   "id": "166e247c-58e2-464f-b6ca-07681716e830",
   "metadata": {},
   "outputs": [],
   "source": [
    "num1 = 10000000000\n",
    "num2 = 10000000\n",
    "\n",
    "num1 + num2"
   ]
  },
  {
   "cell_type": "markdown",
   "id": "c1f6ca28-f8b6-496a-8446-d2798f23ec43",
   "metadata": {},
   "source": [
    "💡 Mais saviez-vous que vous pouvez utiliser des undescores `_` pour séparer les milliers, millions ? C'est sans impact sur le code : "
   ]
  },
  {
   "cell_type": "code",
   "execution_count": null,
   "id": "9597cd51-b7ab-4245-bc88-887c6407d2b3",
   "metadata": {},
   "outputs": [],
   "source": [
    "num1 = 10_000_000_000\n",
    "num2 = 10_000_000\n",
    "\n",
    "num1 + num2"
   ]
  },
  {
   "cell_type": "markdown",
   "id": "117d3e13-3e86-4b78-80dd-65995455467e",
   "metadata": {},
   "source": [
    "Alternativement, vous pouvez utiliser la notation scientifique, mais vous obtiendrez des `float` :"
   ]
  },
  {
   "cell_type": "code",
   "execution_count": null,
   "id": "1ee3a6ab-ebe6-4a57-8e65-f049bdcc0e34",
   "metadata": {},
   "outputs": [],
   "source": [
    "num1 = 1e10\n",
    "num2 = 1e7\n",
    "\n",
    "num1 + num2"
   ]
  },
  {
   "cell_type": "markdown",
   "id": "94efe18f-8ee4-4b45-88be-a197cde2be51",
   "metadata": {},
   "source": [
    "## 3. Utiliser un `context manager` pour gérer les ressources\n",
    "\n",
    "👇 Téléchargeons un petit fichier texte pour les besoins de notre exemple : "
   ]
  },
  {
   "cell_type": "code",
   "execution_count": null,
   "id": "4a24f9a1-071b-4db1-8a55-c3f610889fda",
   "metadata": {},
   "outputs": [],
   "source": [
    "!curl https://python.sdv.univ-paris-diderot.fr/data-files/english-common-words.txt > english-common-words.txt"
   ]
  },
  {
   "cell_type": "markdown",
   "id": "996ae70b-9a47-46b2-a3fc-be0685fe45a2",
   "metadata": {},
   "source": [
    "---\n",
    "Il est fréquent d'ouvrir un fichier, de lire son contenu, puis de le fermer pour libérer la ressource, ainsi :"
   ]
  },
  {
   "cell_type": "code",
   "execution_count": null,
   "id": "1821bd54-200c-4d77-acac-9f254925c29b",
   "metadata": {},
   "outputs": [],
   "source": [
    "# mauvaise pratique\n",
    "filename = \"english-common-words.txt\"\n",
    "\n",
    "file = open(filename)\n",
    "\n",
    "words = file.read().splitlines()\n",
    "\n",
    "file.close()\n",
    "\n",
    "words[:3]"
   ]
  },
  {
   "cell_type": "markdown",
   "id": "c4e20d7a-9619-4816-a4fa-f8be465e333b",
   "metadata": {},
   "source": [
    "Mais si on oublie de le fermer, ou si il y a une erreur entre le moment où on ouvre le fichier et le moment où on le ferme, cela peut poser problème. \n",
    "\n",
    "💡 La solution, utiliser un gestionnaire de contexte `with` ainsi, qui garantit que le fichier sera fermé automatiquement à l'issue du bloc indenté."
   ]
  },
  {
   "cell_type": "code",
   "execution_count": null,
   "id": "c3f37f31-1550-460c-a99c-94b7ba9d53a0",
   "metadata": {},
   "outputs": [],
   "source": [
    "# bonne pratique\n",
    "filename = \"english-common-words.txt\"\n",
    "\n",
    "with open(filename) as file:\n",
    "    words = file.read().splitlines()\n",
    "\n",
    "words[:3]"
   ]
  },
  {
   "cell_type": "markdown",
   "id": "bf5600b0-9a53-42a5-be04-625261926c02",
   "metadata": {},
   "source": [
    "## 4. Itération avec indices grâce à enumerate"
   ]
  },
  {
   "cell_type": "markdown",
   "id": "ef0828d4-a71f-4d06-ba61-21703de72e64",
   "metadata": {},
   "source": [
    "Créons une petite liste de prénoms : "
   ]
  },
  {
   "cell_type": "code",
   "execution_count": null,
   "id": "958f517f-615f-4d4f-93e4-1184a1a89104",
   "metadata": {},
   "outputs": [],
   "source": [
    "names = [\"Sadi\", \"Charlotte\", \"Léonard\", \"Blaise\", \"Jacqueline\"]"
   ]
  },
  {
   "cell_type": "markdown",
   "id": "cd2ed928-a738-46e8-8e74-4bb25b845b72",
   "metadata": {},
   "source": [
    "Il y a plusieurs manières de la traverser, plus ou moins idiomatiques : "
   ]
  },
  {
   "cell_type": "code",
   "execution_count": null,
   "id": "13018b56-0683-47f0-a506-0dc740a1f7c2",
   "metadata": {},
   "outputs": [],
   "source": [
    "# traverser la liste avec un while\n",
    "i = 0\n",
    "while i < len(names):\n",
    "    print(names[i])\n",
    "    i = i + 1"
   ]
  },
  {
   "cell_type": "markdown",
   "id": "8f42017e-9a84-430a-9471-fb753b846656",
   "metadata": {},
   "source": [
    "☝️ Traverser la liste avec un `while` oblige à gérer soit même l’incrémentation de la variable qui contient l'indice."
   ]
  },
  {
   "cell_type": "code",
   "execution_count": null,
   "id": "96809623-3473-42a3-8bfe-ef7f7a7fbfd6",
   "metadata": {},
   "outputs": [],
   "source": [
    "# itération via les indices :\n",
    "\n",
    "for i in range(len(names)):\n",
    "    print(names[i])"
   ]
  },
  {
   "cell_type": "markdown",
   "id": "41187845-0805-4a49-b02e-eeb513d0d129",
   "metadata": {},
   "source": [
    "☝️ Traverser la liste avec un `for i in range(len(iterable))` a le bénéfice d'incrémenter la variable d'indice automatiquement, mais c’est un peu long à tapper et manque de simplicité."
   ]
  },
  {
   "cell_type": "code",
   "execution_count": null,
   "id": "c7abe234-6137-41ac-bf09-68bcc7250ebf",
   "metadata": {},
   "outputs": [],
   "source": [
    "# itération dictecte pythonique\n",
    "for name in names:\n",
    "    print(name)"
   ]
  },
  {
   "cell_type": "markdown",
   "id": "5f35cb98-e98b-47b0-a392-914f2eb3d703",
   "metadata": {},
   "source": [
    "☝️ Cette itération directe sur les éléments est la forme pythonique, simple et élégante. \n",
    "\n",
    "Mais parfois, on veut quand même avoir l'indice pour les besoins de notre algorithme…"
   ]
  },
  {
   "cell_type": "code",
   "execution_count": null,
   "id": "b9e4daf1-8ab4-4f3f-a4df-080af0c2c840",
   "metadata": {},
   "outputs": [],
   "source": [
    "# itération pythonique + indice (maladroit)\n",
    "\n",
    "i = 0\n",
    "for name in names:\n",
    "    print(f\"{i}: {name}\")\n",
    "    i = i + 1"
   ]
  },
  {
   "cell_type": "markdown",
   "id": "b9d2162e-05e8-4afb-8336-c945d4d895da",
   "metadata": {},
   "source": [
    "☝️ Alors on pourrait imaginer combiner l’itération directe et la gestion d'un indice comme ici, mais c'est un peu maladroit…"
   ]
  },
  {
   "cell_type": "code",
   "execution_count": null,
   "id": "46b636f3-8137-4704-a80c-a8411211a8e6",
   "metadata": {},
   "outputs": [],
   "source": [
    "# enumerate à la rescousse\n",
    "\n",
    "for i, name in enumerate(names):\n",
    "    print(f\"{i}: {name}\")"
   ]
  },
  {
   "cell_type": "markdown",
   "id": "53d829da-b0ad-4471-8980-facd83584acc",
   "metadata": {},
   "source": [
    "💡  Le moyen le plus propre est d'utiliser la fonction `enumerate` sur notre itérable (ici une liste), et d'itérer dessus avec 2 variables : la première tiendra l'indice, la seconde les éléments de l'itérable que l'on traverse."
   ]
  },
  {
   "cell_type": "markdown",
   "id": "27a4a735-ca73-4c23-8852-fcbd249e9c65",
   "metadata": {},
   "source": [
    "## 5. Itérer sur plusieurs listes en même temps avec zip"
   ]
  },
  {
   "cell_type": "markdown",
   "id": "2b8e0c31-3bae-4c40-83d5-eb53b3cf0721",
   "metadata": {},
   "source": [
    "Cette fois, nous allons avoir 2 listes. On souhaite itérer sur les deux en parallèle."
   ]
  },
  {
   "cell_type": "code",
   "execution_count": null,
   "id": "c5b1d074-9b3a-47ea-8898-5cefc6fa493c",
   "metadata": {},
   "outputs": [],
   "source": [
    "first_names = [\"Sadi\", \"Charlotte\", \"Léonard\", \"Blaise\", \"Jacqueline\"]\n",
    "last_names = [\"Carnot\", \"Perriand\", \"de Vinci\", \"Pascal\", \"Ferrand\"]"
   ]
  },
  {
   "cell_type": "markdown",
   "id": "f44e15de-557f-4406-b303-1b31d5d7231f",
   "metadata": {},
   "source": [
    "👇 On pourrait le faire avec un indice sur un range de la longueur de l'une ou l'autre, mais encore une fois, c'est un peu fastidieux :"
   ]
  },
  {
   "cell_type": "code",
   "execution_count": null,
   "id": "db91cbe8-c632-417e-9320-4440259b47db",
   "metadata": {},
   "outputs": [],
   "source": [
    "# itération par l'indice\n",
    "for i in range(len(first_names)):\n",
    "    print(f\"{first_names[i]} {last_names[i]}\")"
   ]
  },
  {
   "cell_type": "markdown",
   "id": "5cb66dcb-18af-4235-9825-fadab757624c",
   "metadata": {},
   "source": [
    "👇 On pourrait utiliser `enumerate` pour itérer directement sur une liste, et utiliser l'index donné par `enumerate` pour aller chercher les éléments dans l'autre liste, mais c’est un peu tordu."
   ]
  },
  {
   "cell_type": "code",
   "execution_count": null,
   "id": "ed68d352-436f-40f2-a308-a4275d90fad2",
   "metadata": {},
   "outputs": [],
   "source": [
    "# itération avec enumerate (maladroit)\n",
    "\n",
    "for i, first in enumerate(first_names):\n",
    "    print(f\"{first} {last_names[i]}\")"
   ]
  },
  {
   "cell_type": "markdown",
   "id": "c310fc93-ecd8-4cec-a7fe-f69920e9640f",
   "metadata": {},
   "source": [
    "💡 Mais en réalité, pour traverser directement 2 ou plusieurs itérables, le plus simple, c’est d’utiliser `zip` pour les réunir, et itérer sur le `zip`, avec autant de variables d'itération que d’itérables :"
   ]
  },
  {
   "cell_type": "code",
   "execution_count": null,
   "id": "cc83544d-4969-4183-a985-dac7dc7e0e0d",
   "metadata": {},
   "outputs": [],
   "source": [
    "# zip à la rescousse\n",
    "\n",
    "for first, last in zip(first_names, last_names):\n",
    "    print(f\"{first} {last}\")"
   ]
  },
  {
   "cell_type": "markdown",
   "id": "5918c6b8-0910-4cb2-99d4-3a6070f2e5ec",
   "metadata": {},
   "source": [
    "## 6. Dépaqueter des valeurs"
   ]
  },
  {
   "cell_type": "markdown",
   "id": "c08ec3c1-b2fb-47c7-aa24-af413d9aaf83",
   "metadata": {},
   "source": [
    "Quand on a plusieurs valeurs dans un tuple à droite d'une assignation, on peut directement les assigner à plusieurs variables, en les séparant par des virgules, comme ceci :"
   ]
  },
  {
   "cell_type": "code",
   "execution_count": null,
   "id": "e95ffc4b-bce2-4892-a2d6-80212aa17ccd",
   "metadata": {},
   "outputs": [],
   "source": [
    "a, b = (0, 1)"
   ]
  },
  {
   "cell_type": "code",
   "execution_count": null,
   "id": "8dd9ce09-d002-4e00-9852-76b5cada1cfe",
   "metadata": {},
   "outputs": [],
   "source": [
    "a"
   ]
  },
  {
   "cell_type": "code",
   "execution_count": null,
   "id": "2f22bec8-d47f-47a5-8942-69761fcd3823",
   "metadata": {},
   "outputs": [],
   "source": [
    "b"
   ]
  },
  {
   "cell_type": "markdown",
   "id": "f4d35565-afd4-4d15-a6aa-661dc87890d7",
   "metadata": {},
   "source": [
    "👇 Si l'une des valeur ne nous intéresse pas pour la suite, la convention est de l'assigner à une variable appelée `_`. Votre IDE ne vous reprochera plus d'avoir assigné une variable et de ne pas l'avoir utilisée ensuite, si elle est nommée ainsi :"
   ]
  },
  {
   "cell_type": "code",
   "execution_count": null,
   "id": "0b4b136b-2233-4741-a91b-fbcaaeb8095f",
   "metadata": {},
   "outputs": [],
   "source": [
    "# ignorer une variable avec _\n",
    "a, _ = (0, 1)\n",
    "a"
   ]
  },
  {
   "cell_type": "markdown",
   "id": "fa844712-1c77-4158-9465-fab36e690e4f",
   "metadata": {},
   "source": [
    "👇 Si on a plus de noms de variables que de valeurs à dépaqueter, on obtient une `ValueError` :"
   ]
  },
  {
   "cell_type": "code",
   "execution_count": null,
   "id": "fcaf2cde-35ff-44df-aa75-ddb04899facc",
   "metadata": {},
   "outputs": [],
   "source": [
    "a, b, c = (1, 2)"
   ]
  },
  {
   "cell_type": "markdown",
   "id": "b4dc36c5-a93e-4710-b8f2-17c994375985",
   "metadata": {},
   "source": [
    "👇 Si on a plus de valeurs à dépaqueter que de noms de variables, là aussi, une `ValueError` nous attend :"
   ]
  },
  {
   "cell_type": "code",
   "execution_count": null,
   "id": "97465fc3-dc26-4e48-a0b7-9def34b06c12",
   "metadata": {},
   "outputs": [],
   "source": [
    "a, b, c = (1, 2, 3, 4, 5)"
   ]
  },
  {
   "cell_type": "markdown",
   "id": "5aeaaefe-f5fa-4ece-b9f0-ad045028aefb",
   "metadata": {},
   "source": [
    "👇 Mais dans ce cas là, on peut aussi dire à Python de mettre toutes les valeurs qui restent à dépaqueter dans une seule variable, qui contiendra une liste, juste avec une petite étoile `*` :"
   ]
  },
  {
   "cell_type": "code",
   "execution_count": null,
   "id": "7002672d-0305-4366-9079-24c58a747dda",
   "metadata": {},
   "outputs": [],
   "source": [
    "a, b, *c = (1, 2, 3, 4, 5)"
   ]
  },
  {
   "cell_type": "code",
   "execution_count": null,
   "id": "63a02b3b-0695-444c-82f7-0303b1a75380",
   "metadata": {},
   "outputs": [],
   "source": [
    "a"
   ]
  },
  {
   "cell_type": "code",
   "execution_count": null,
   "id": "e3d8c221-6f4f-4c21-b3ea-965c200f9a1a",
   "metadata": {},
   "outputs": [],
   "source": [
    "b"
   ]
  },
  {
   "cell_type": "code",
   "execution_count": null,
   "id": "22d6206f-23e5-4ffa-b5fa-9a27477878a1",
   "metadata": {},
   "outputs": [],
   "source": [
    "c"
   ]
  },
  {
   "cell_type": "markdown",
   "id": "98e5e87a-5ca1-4264-9ed5-873d35fb1e82",
   "metadata": {},
   "source": [
    "👇 la variable qui récupère le trop-plein de valeurs n’a pas à être la dernière de l'assignation :"
   ]
  },
  {
   "cell_type": "code",
   "execution_count": null,
   "id": "cbacb0cc-e70c-474e-ace2-4d7dac3b84ee",
   "metadata": {},
   "outputs": [],
   "source": [
    "a, b, *c, d = (1, 2, 3, 4, 5, 6)\n",
    "\n",
    "print(a)\n",
    "print(b)\n",
    "print(c)\n",
    "print(d)"
   ]
  },
  {
   "cell_type": "markdown",
   "id": "a5b64212-5f6e-4395-9d51-da7d42141d15",
   "metadata": {},
   "source": [
    "## 7. Extraire et fixer des attributs dans une instance\n",
    "\n",
    "Imaginez que vous ayez une classe très simple et très vide…"
   ]
  },
  {
   "cell_type": "code",
   "execution_count": null,
   "id": "5944485b-d5f5-49a8-9bc8-12e81deea0d6",
   "metadata": {},
   "outputs": [],
   "source": [
    "class Person:\n",
    "    pass\n",
    "\n",
    "\n",
    "person = Person()"
   ]
  },
  {
   "cell_type": "markdown",
   "id": "0e14faf4-adaf-47cc-af05-55f74e68a0f4",
   "metadata": {},
   "source": [
    "Vous pourriez ajoutre des attributs à votre instance `person` ainsi :"
   ]
  },
  {
   "cell_type": "code",
   "execution_count": null,
   "id": "eb6b3dcb-a861-45d1-93e5-437e107bb66e",
   "metadata": {},
   "outputs": [],
   "source": [
    "person.first = \"Sadi\"\n",
    "person.last = \"Carnot\""
   ]
  },
  {
   "cell_type": "markdown",
   "id": "fe89bef2-c134-4c3c-abca-028f44a5ce2f",
   "metadata": {},
   "source": [
    "Et les extraire ainsi :"
   ]
  },
  {
   "cell_type": "code",
   "execution_count": null,
   "id": "617b6cd9-a6cb-4077-870d-6456842dd8bf",
   "metadata": {},
   "outputs": [],
   "source": [
    "person.first"
   ]
  },
  {
   "cell_type": "code",
   "execution_count": null,
   "id": "05f69d4e-9994-4b60-9720-5c6f220d5a10",
   "metadata": {},
   "outputs": [],
   "source": [
    "person.last"
   ]
  },
  {
   "cell_type": "markdown",
   "id": "a937c73f-dd87-4400-9a57-df3f4c4f9426",
   "metadata": {},
   "source": [
    "Mais si les noms des attributs étaient dans une variable, vous seriez coincé·e "
   ]
  },
  {
   "cell_type": "code",
   "execution_count": null,
   "id": "bd8fd6a7-7705-44d5-a27c-34f2ce0fda9a",
   "metadata": {
    "tags": []
   },
   "outputs": [],
   "source": [
    "class Person:\n",
    "    pass\n",
    "\n",
    "\n",
    "person = Person()\n",
    "\n",
    "first_key = \"first\"\n",
    "first_val = \"Sadi\""
   ]
  },
  {
   "cell_type": "markdown",
   "id": "cf892090-554e-40e5-8edb-ee1e8cee729d",
   "metadata": {},
   "source": [
    "💡 C’est là qu’interviennent les fonctions `setattr` (set attribute) et `getattr` (get attribute) :"
   ]
  },
  {
   "cell_type": "code",
   "execution_count": null,
   "id": "9a890085-ee78-4627-b120-9f21e87c7a5d",
   "metadata": {},
   "outputs": [],
   "source": [
    "setattr(person, first_key, first_val)\n",
    "\n",
    "first = getattr(person, first_key)\n",
    "person.first"
   ]
  },
  {
   "cell_type": "code",
   "execution_count": null,
   "id": "f76861ca-8447-4d5e-ade2-42aadec21183",
   "metadata": {},
   "outputs": [],
   "source": [
    "first"
   ]
  },
  {
   "cell_type": "code",
   "execution_count": null,
   "id": "e23059d6-3495-4bbe-95dc-f32807d73d42",
   "metadata": {},
   "outputs": [],
   "source": [
    "## exemple d'usage\n",
    "\n",
    "\n",
    "class Person:\n",
    "    pass\n",
    "\n",
    "\n",
    "person = Person()\n",
    "\n",
    "person_info = {\"first\": \"Sadi\", \"last\": \"Carnot\"}\n",
    "\n",
    "for key, value in person_info.items():\n",
    "    setattr(person, key, value)\n",
    "\n",
    "for key in person_info:\n",
    "    print(getattr(person, key))"
   ]
  },
  {
   "cell_type": "markdown",
   "id": "fa971e40-33b6-4ce0-a9df-40f9dd5c3c3c",
   "metadata": {},
   "source": [
    "## 8. Faire saisir des mots de passe en toute sécurité\n",
    "\n",
    "Parfois un script a besoin de vous faire saisir un mot de passe, par exemple pour vous identifier à un service.\n",
    "\n",
    "On peut demander à l'utilisateur du script de saisir le mot de passe, mais si on le fait avec la fonction classique `input`, le problème est que le mot de passe apparaît à l'écran, ce qui n'est pas idéal quand d’autres personnes peuvent voir l'écran."
   ]
  },
  {
   "cell_type": "code",
   "execution_count": null,
   "id": "f7f367e1-a38d-4850-870b-ec9dc0ed89bd",
   "metadata": {},
   "outputs": [],
   "source": [
    "# mauvaise pratique, mot de passe visible à l'écran\n",
    "username = input(\"Username: \")\n",
    "password = input(\"Password: \")\n",
    "\n",
    "print(\"Logging in...\")"
   ]
  },
  {
   "cell_type": "markdown",
   "id": "93f3c13f-57cf-4c32-b65c-af6f9eb685ef",
   "metadata": {},
   "source": [
    "💡 Pour cela, il suffit d'utiliser `getpass.getpass()` qui fonctionne comme `input()` mais cache le mot de passe saisi :"
   ]
  },
  {
   "cell_type": "code",
   "execution_count": null,
   "id": "539d5c8f-0862-4876-bb1f-6286710a39cc",
   "metadata": {},
   "outputs": [],
   "source": [
    "# bonne pratique utiliser getpass\n",
    "\n",
    "from getpass import getpass\n",
    "\n",
    "username = input(\"Username: \")\n",
    "password = getpass(\"Password: \")\n",
    "\n",
    "print(\"Logging in...\")"
   ]
  },
  {
   "cell_type": "markdown",
   "id": "d803d6dd-bc43-47b9-8795-fc39e9c7b424",
   "metadata": {},
   "source": [
    "## 9. Décorateurs\n",
    "\n",
    "Parfois on se rend compte que l'on a besoin d'ajouter un comportement commun à plusieurs fonctions ou méthodes.\n",
    "\n",
    "Par exemple, pour enregistrer un fichier \"journal\" qui traque les appels passés à une fonction, ou bien si l’on souhaite simplement chronométrer deux algorithmes pour les comparer.\n",
    "\n",
    "On pourrait ajouter la logique qui assure le chronométrage dans la définition de chaque fonction, mais ce serait répéter de la logique qui devrait être définie en un seul lieu.\n",
    "\n",
    "C’est là qu’interviennent les décorateurs.\n",
    "\n",
    "Imaginons que je veuille comparer les performances de ces deux fonctions, qui toutes les deux renvoient la somme des entiers entre `1` et `n`."
   ]
  },
  {
   "cell_type": "code",
   "execution_count": null,
   "id": "4d3e2cfe-b864-47dc-a0c0-627ede7152fc",
   "metadata": {},
   "outputs": [],
   "source": [
    "def simple_sum(n):\n",
    "    \"\"\"Renvoie la somme des nombres de 1 à n en sommant range(1, n+1).\"\"\"\n",
    "    return sum(range(1, n + 1))"
   ]
  },
  {
   "cell_type": "code",
   "execution_count": null,
   "id": "983de5f8-2f62-46b1-8dcc-df95615cbd79",
   "metadata": {},
   "outputs": [],
   "source": [
    "def gaussian_sum(n):\n",
    "    \"\"\"Calcule la somme de 1 à n, avec la technique utilisée par Gauss en primaire.\"\"\"\n",
    "    return (n * (n + 1)) // 2"
   ]
  },
  {
   "cell_type": "code",
   "execution_count": null,
   "id": "dc20562f-16e7-495c-9214-07f5788eb4cd",
   "metadata": {},
   "outputs": [],
   "source": [
    "simple_sum(100)"
   ]
  },
  {
   "cell_type": "code",
   "execution_count": null,
   "id": "e132d99c-82b3-4267-969a-1ad9b09679c2",
   "metadata": {},
   "outputs": [],
   "source": [
    "gaussian_sum(100)"
   ]
  },
  {
   "cell_type": "markdown",
   "id": "2fcb63ed-b0ef-49ab-8029-cda75c01009d",
   "metadata": {},
   "source": [
    "Pour mesurer le temps pris par chaque fonction, il suffit de récupérer l’heure avant l'exécution, puis après l'exécution, et de calculer la différence.\n",
    "\n",
    "Nous allons écrire une fonction appelée un décorateur. Elle va prendre une fonction, et nous la renvoyer modifiée avec le comportement de chronométrage."
   ]
  },
  {
   "cell_type": "code",
   "execution_count": null,
   "id": "a57057d6-f42b-4370-bd24-70bb43a5bc4c",
   "metadata": {},
   "outputs": [],
   "source": [
    "from time import time\n",
    "\n",
    "\n",
    "def timer(func):\n",
    "    def wrapper(*args, **kwargs):\n",
    "        t1 = time() # on note l'heure avant d'exécuter la fonction\n",
    "        value = func(*args, **kwargs) # on exécute la fonction avec ses arguments et on stocke sa valeur de sortie\n",
    "        t2 = time() # on note l'heure après l'exécution de la fonction\n",
    "\n",
    "        print(f\"{func.__name__}({args[0]}) exécutée en {t2 - t1} secondes.\")\n",
    "\n",
    "        return value # notre fonction wrapper renvoie la valeur de sortie de la fonction \"emballée\"\n",
    "\n",
    "    return wrapper # on renvoie la fonction \"emballée\" dans le wrapper"
   ]
  },
  {
   "cell_type": "markdown",
   "id": "14b5747f-afac-40a0-a1c5-63fab50ef97b",
   "metadata": {},
   "source": [
    "Maintenant on n'a plus qu'à appliquer le décorateur `@timer` juste au dessus de la définition de nos fonctions, que nous allons reprendre ici :"
   ]
  },
  {
   "cell_type": "code",
   "execution_count": null,
   "id": "453e0ed9-e8be-45aa-8b46-4d9f8da473c3",
   "metadata": {},
   "outputs": [],
   "source": [
    "@timer\n",
    "def simple_sum(n):\n",
    "    \"\"\"Renvoie la somme des nombres de 1 à n en sommant range(1, n+1).\"\"\"\n",
    "    return sum(range(1, n + 1))\n",
    "\n",
    "@timer\n",
    "def gaussian_sum(n):\n",
    "    \"\"\"Calcule la somme de 1 à n, avec la technique utilisée par Gauss en primaire.\"\"\"\n",
    "    return (n * (n + 1)) // 2"
   ]
  },
  {
   "cell_type": "code",
   "execution_count": null,
   "id": "cf1097cc-280d-4875-8653-777f6f662fb6",
   "metadata": {},
   "outputs": [],
   "source": [
    "big_n = 10**8\n",
    "simple_sum(big_n)\n",
    "gaussian_sum(big_n)"
   ]
  },
  {
   "cell_type": "markdown",
   "id": "41a38d3e-9b59-4edb-bf0d-b7d4ab9e355b",
   "metadata": {},
   "source": [
    "👍 Et voilà, nos fonctions ont conservé leurs comportements respectifs, mais ont en plus le comportement ajouté par le décorateur.\n",
    "\n",
    "Et au passage, on voit qu’évidemment, tous les algorithmes ne se valent pas en terme de performance."
   ]
  },
  {
   "cell_type": "markdown",
   "id": "b4f6238c-bfd8-4eca-be77-aa2c89560cc4",
   "metadata": {},
   "source": [
    "## 10. Dataclasses\n",
    "\n",
    "Et maintenant que vous êtes familiers avec le concept de décorateur, en voici un que vous pouvez importer de la bibliothèque `dataclasses` qui sert à simplifier la création de classes, en automatisant la création des méthodes magiques `__init__`, `__repr__`, les méthodes de comparaisons, et bien d'autres…"
   ]
  },
  {
   "cell_type": "code",
   "execution_count": null,
   "id": "8a00e06e-0565-4cf4-8fb2-2bf8a10519a1",
   "metadata": {},
   "outputs": [],
   "source": [
    "from dataclasses import dataclass\n",
    "\n",
    "\n",
    "@dataclass\n",
    "class Student:\n",
    "    \"\"\"Class for keeping track of an item in inventory.\"\"\"\n",
    "    first_name: str\n",
    "    last_name: str\n",
    "    student_id: int\n",
    "    \n",
    "    def greet(self):\n",
    "        return f\"Hello I am {self.first_name} {self.last_name}.\""
   ]
  },
  {
   "cell_type": "code",
   "execution_count": null,
   "id": "f7e1fa0e-24dd-4683-ae85-294d59ef7643",
   "metadata": {},
   "outputs": [],
   "source": [
    "s1 = Student('John', 'Doe', 1) # la méthode __init__ a été implémentée automatiquement"
   ]
  },
  {
   "cell_type": "code",
   "execution_count": null,
   "id": "c9dc6efa-7405-452d-90e6-f199cfdfe6f6",
   "metadata": {},
   "outputs": [],
   "source": [
    "s1 # la méthode __repr__ a été implémentée automatiquement"
   ]
  },
  {
   "cell_type": "code",
   "execution_count": null,
   "id": "c28b7794-1e12-475b-802b-a8aff444ca9d",
   "metadata": {},
   "outputs": [],
   "source": [
    "s1.greet()"
   ]
  },
  {
   "cell_type": "markdown",
   "id": "0647dc10-94e9-4ac1-9c15-b60c1e01c146",
   "metadata": {},
   "source": [
    "Comme vous pouvez le constater notre classe fonctionne et a bien une une méthode d'initialisation et de représentation, qui ont été déduites automatiquement des attributs déclarés en haut de la classe.\n",
    "\n",
    "Évidemment, les méthodes personnalisées comme `.greet()` fonctionnent également."
   ]
  }
 ],
 "metadata": {
  "kernelspec": {
   "display_name": "Python 3 (ipykernel)",
   "language": "python",
   "name": "python3"
  },
  "language_info": {
   "codemirror_mode": {
    "name": "ipython",
    "version": 3
   },
   "file_extension": ".py",
   "mimetype": "text/x-python",
   "name": "python",
   "nbconvert_exporter": "python",
   "pygments_lexer": "ipython3",
   "version": "3.10.4"
  }
 },
 "nbformat": 4,
 "nbformat_minor": 5
}
